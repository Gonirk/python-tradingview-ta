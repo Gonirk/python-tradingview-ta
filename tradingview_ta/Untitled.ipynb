{
 "cells": [
  {
   "cell_type": "code",
   "execution_count": 11,
   "id": "babd481c-0868-45d5-94d3-7954e4e0da54",
   "metadata": {},
   "outputs": [],
   "source": [
    "from tradingview_ta import TA_Handler, Interval, Exchange\n"
   ]
  },
  {
   "cell_type": "code",
   "execution_count": 45,
   "id": "4d20d436-5f9d-473a-aa2e-131b1e452425",
   "metadata": {},
   "outputs": [],
   "source": [
    "def test_SMC():\n",
    "    # Пример 1: Цена ниже нижней границы ордерного блока\n",
    "    result1 = SMC(100, 120, 90)\n",
    "    print(f\"Test 1 - Expected: BUY, Got: {result1}\")"
   ]
  },
  {
   "cell_type": "code",
   "execution_count": 15,
   "id": "20a99905-77a9-4254-b105-b965baf5e44b",
   "metadata": {},
   "outputs": [],
   "source": [
    "tesla = TA_Handler(\n",
    "    symbol=\"TSLA\",\n",
    "    screener=\"america\",\n",
    "    exchange=\"NASDAQ\",\n",
    "    interval=Interval.INTERVAL_1_DAY,\n",
    "    \n",
    ")"
   ]
  },
  {
   "cell_type": "code",
   "execution_count": null,
   "id": "8f016e6a-8ce5-42cb-b608-3b243f8fdfa4",
   "metadata": {},
   "outputs": [],
   "source": []
  },
  {
   "cell_type": "code",
   "execution_count": 18,
   "id": "ce3d4dd0-3c07-43f3-a9f6-a4bce30fc416",
   "metadata": {},
   "outputs": [
    {
     "name": "stdout",
     "output_type": "stream",
     "text": [
      "У меня все получиться !\n"
     ]
    }
   ],
   "source": [
    "print(\"У меня все получиться !\")"
   ]
  },
  {
   "cell_type": "code",
   "execution_count": 43,
   "id": "93bf7847-0fd9-4c51-9f3a-4aec8f1bd064",
   "metadata": {},
   "outputs": [
    {
     "name": "stderr",
     "output_type": "stream",
     "text": [
      "DEBUG:urllib3.connectionpool:Starting new HTTPS connection (1): scanner.tradingview.com:443\n",
      "DEBUG:urllib3.connectionpool:https://scanner.tradingview.com:443 \"POST /crypto/scan HTTP/11\" 200 None\n",
      "DEBUG:urllib3.connectionpool:Starting new HTTPS connection (1): scanner.tradingview.com:443\n"
     ]
    },
    {
     "name": "stdout",
     "output_type": "stream",
     "text": [
      "Analysis for BTCUSDT on BINANCE received successfully.\n",
      "<tradingview_ta.main.Analysis object at 0x00000199C1537380>\n"
     ]
    },
    {
     "name": "stderr",
     "output_type": "stream",
     "text": [
      "DEBUG:urllib3.connectionpool:https://scanner.tradingview.com:443 \"POST /crypto/scan HTTP/11\" 200 None\n",
      "DEBUG:urllib3.connectionpool:Starting new HTTPS connection (1): scanner.tradingview.com:443\n",
      "DEBUG:urllib3.connectionpool:https://scanner.tradingview.com:443 \"POST /crypto/scan HTTP/11\" 200 None\n",
      "DEBUG:urllib3.connectionpool:Starting new HTTPS connection (1): scanner.tradingview.com:443\n"
     ]
    },
    {
     "name": "stdout",
     "output_type": "stream",
     "text": [
      "Analysis for BTCUSDT on COINBASE received successfully.\n",
      "<tradingview_ta.main.Analysis object at 0x00000199C18844A0>\n",
      "Analysis for BTCUSDT on BINANCE received successfully.\n",
      "<tradingview_ta.main.Analysis object at 0x00000199C27FA360>\n"
     ]
    },
    {
     "name": "stderr",
     "output_type": "stream",
     "text": [
      "DEBUG:urllib3.connectionpool:https://scanner.tradingview.com:443 \"POST /crypto/scan HTTP/11\" 200 None\n"
     ]
    },
    {
     "name": "stdout",
     "output_type": "stream",
     "text": [
      "Analysis for BTCUSDT on COINBASE received successfully.\n",
      "<tradingview_ta.main.Analysis object at 0x00000199BFB0C800>\n"
     ]
    }
   ],
   "source": [
    "from tradingview_ta import TA_Handler, Interval\n",
    "\n",
    "# Попробуйте символы и биржи, чтобы проверить работоспособность API\n",
    "symbols = [\"BTCUSDT\", \"BTCUSDT\"]\n",
    "exchanges = [\"BINANCE\", \"COINBASE\"]\n",
    "\n",
    "for symbol in symbols:\n",
    "    for exchange in exchanges:\n",
    "        handler = TA_Handler(\n",
    "            symbol=symbol,\n",
    "            exchange=exchange,\n",
    "            screener=\"crypto\",\n",
    "            interval=Interval.INTERVAL_1_DAY\n",
    "        )\n",
    "        \n",
    "        try:\n",
    "            analysis = handler.get_analysis()\n",
    "            print(f\"Analysis for {symbol} on {exchange} received successfully.\")\n",
    "            print(analysis)\n",
    "        except Exception as e:\n",
    "            print(f\"Error for {symbol} on {exchange}:\", e)\n",
    "\n"
   ]
  },
  {
   "cell_type": "code",
   "execution_count": 47,
   "id": "9f3e54af-acca-4d19-bb1d-1a4e8533465c",
   "metadata": {},
   "outputs": [
    {
     "name": "stderr",
     "output_type": "stream",
     "text": [
      "DEBUG:urllib3.connectionpool:Starting new HTTPS connection (1): scanner.tradingview.com:443\n",
      "DEBUG:urllib3.connectionpool:https://scanner.tradingview.com:443 \"POST /crypto/scan HTTP/11\" 200 None\n"
     ]
    },
    {
     "name": "stdout",
     "output_type": "stream",
     "text": [
      "Analysis received successfully.\n"
     ]
    }
   ],
   "source": [
    "from tradingview_ta import TA_Handler, Interval\n",
    "\n",
    "handler = TA_Handler(\n",
    "    symbol=\"BTCUSDT\",\n",
    "    exchange=\"binance\",\n",
    "    screener=\"crypto\",\n",
    "    interval=Interval.INTERVAL_1_DAY\n",
    ")\n",
    "\n",
    "try:\n",
    "    analysis = handler.get_analysis()\n",
    "    print(\"Analysis received successfully.\")\n",
    "except Exception as e:\n",
    "    print(\"Error:\", e)"
   ]
  },
  {
   "cell_type": "code",
   "execution_count": 24,
   "id": "25ba3659-95dc-4988-8906-5f86fe978f2c",
   "metadata": {},
   "outputs": [],
   "source": [
    "handler = TA_Handler(\n",
    "    symbol=\"ETHUSDT\",\n",
    "    exchange=\"coinbase\",\n",
    "    screener=\"crypto\",\n",
    "    interval=Interval.INTERVAL_1_DAY\n",
    ")"
   ]
  },
  {
   "cell_type": "code",
   "execution_count": 26,
   "id": "72d0d540-3782-47e4-8550-b30670d3f579",
   "metadata": {},
   "outputs": [
    {
     "name": "stdout",
     "output_type": "stream",
     "text": [
      "Analysis received successfully.\n"
     ]
    }
   ],
   "source": [
    "try:\n",
    "    analysis = handler.get_analysis()\n",
    "    print(\"Analysis received successfully.\")\n",
    "except Exception as e:\n",
    "    print(\"Error:\", e)\n",
    "    print(\"Details:\", e.args)"
   ]
  },
  {
   "cell_type": "code",
   "execution_count": 28,
   "id": "991040d2-65a4-4dd4-8deb-183a50c2910a",
   "metadata": {},
   "outputs": [
    {
     "name": "stdout",
     "output_type": "stream",
     "text": [
      "Analysis received successfully.\n"
     ]
    }
   ],
   "source": [
    "handler = TA_Handler(\n",
    "    symbol=\"BTCUSDT\",\n",
    "    exchange=\"binance\",               # Название биржи в нижнем регистре\n",
    "    screener=\"crypto\",\n",
    "    interval=Interval.INTERVAL_1_DAY\n",
    ")\n",
    "\n",
    "try:\n",
    "    analysis = handler.get_analysis()\n",
    "    print(\"Analysis received successfully.\")\n",
    "except Exception as e:\n",
    "    print(\"Error:\", e)\n",
    "    print(\"Details:\", e.args)"
   ]
  },
  {
   "cell_type": "code",
   "execution_count": 30,
   "id": "4bc3bfe0-a37e-45a9-97fd-5d1ff3d4f96f",
   "metadata": {},
   "outputs": [
    {
     "name": "stdout",
     "output_type": "stream",
     "text": [
      "Analysis received successfully.\n"
     ]
    }
   ],
   "source": [
    "from tradingview_ta import TA_Handler, Interval\n",
    "\n",
    "handler = TA_Handler(\n",
    "    symbol=\"BTCUSDT\",\n",
    "    exchange=\"binance\",\n",
    "    screener=\"crypto\",\n",
    "    interval=Interval.INTERVAL_1_DAY\n",
    ")\n",
    "\n",
    "try:\n",
    "    analysis = handler.get_analysis()\n",
    "    print(\"Analysis received successfully.\")\n",
    "except Exception as e:\n",
    "    print(\"Error:\", e)\n",
    "    print(\"Details:\", e.args)"
   ]
  },
  {
   "cell_type": "code",
   "execution_count": 32,
   "id": "9971376e-38be-42dc-8058-7b8151860245",
   "metadata": {},
   "outputs": [
    {
     "name": "stderr",
     "output_type": "stream",
     "text": [
      "DEBUG:urllib3.connectionpool:Starting new HTTPS connection (1): scanner.tradingview.com:443\n",
      "DEBUG:urllib3.connectionpool:https://scanner.tradingview.com:443 \"POST /crypto/scan HTTP/11\" 200 None\n"
     ]
    },
    {
     "name": "stdout",
     "output_type": "stream",
     "text": [
      "Analysis received successfully.\n"
     ]
    }
   ],
   "source": [
    "import requests\n",
    "import logging\n",
    "from tradingview_ta import TA_Handler, Interval\n",
    "\n",
    "# Включаем логирование HTTP-запросов\n",
    "logging.basicConfig(level=logging.DEBUG)\n",
    "\n",
    "# Добавляем отладочный логгер для HTTP-запросов\n",
    "http_logger = logging.getLogger(\"http.client\")\n",
    "http_logger.setLevel(logging.DEBUG)\n",
    "\n",
    "# Настраиваем вывод логов в консоль\n",
    "http_logger.propagate = True\n",
    "\n",
    "# Пример использования TA_Handler\n",
    "handler = TA_Handler(\n",
    "    symbol=\"BTCUSDT\",\n",
    "    exchange=\"binance\",\n",
    "    screener=\"crypto\",\n",
    "    interval=Interval.INTERVAL_1_DAY\n",
    ")\n",
    "\n",
    "try:\n",
    "    analysis = handler.get_analysis()\n",
    "    print(\"Analysis received successfully.\")\n",
    "except Exception as e:\n",
    "    print(\"Error:\", e)\n",
    "    print(\"Details:\", e.args)"
   ]
  },
  {
   "cell_type": "code",
   "execution_count": 34,
   "id": "bd2b0415-9dec-4b8f-bbf3-f88a32f4f6b2",
   "metadata": {},
   "outputs": [
    {
     "name": "stderr",
     "output_type": "stream",
     "text": [
      "DEBUG:urllib3.connectionpool:Starting new HTTPS connection (1): api.tradingview.com:443\n"
     ]
    },
    {
     "ename": "ConnectionError",
     "evalue": "HTTPSConnectionPool(host='api.tradingview.com', port=443): Max retries exceeded with url: /your-endpoint?symbol=BTCUSDT&exchange=binance&interval=1d (Caused by NameResolutionError(\"<urllib3.connection.HTTPSConnection object at 0x00000199C0297590>: Failed to resolve 'api.tradingview.com' ([Errno 11001] getaddrinfo failed)\"))",
     "output_type": "error",
     "traceback": [
      "\u001b[1;31m---------------------------------------------------------------------------\u001b[0m",
      "\u001b[1;31mgaierror\u001b[0m                                  Traceback (most recent call last)",
      "File \u001b[1;32mD:\\AnacondaS\\Lib\\site-packages\\urllib3\\connection.py:199\u001b[0m, in \u001b[0;36mHTTPConnection._new_conn\u001b[1;34m(self)\u001b[0m\n\u001b[0;32m    198\u001b[0m \u001b[38;5;28;01mtry\u001b[39;00m:\n\u001b[1;32m--> 199\u001b[0m     sock \u001b[38;5;241m=\u001b[39m connection\u001b[38;5;241m.\u001b[39mcreate_connection(\n\u001b[0;32m    200\u001b[0m         (\u001b[38;5;28mself\u001b[39m\u001b[38;5;241m.\u001b[39m_dns_host, \u001b[38;5;28mself\u001b[39m\u001b[38;5;241m.\u001b[39mport),\n\u001b[0;32m    201\u001b[0m         \u001b[38;5;28mself\u001b[39m\u001b[38;5;241m.\u001b[39mtimeout,\n\u001b[0;32m    202\u001b[0m         source_address\u001b[38;5;241m=\u001b[39m\u001b[38;5;28mself\u001b[39m\u001b[38;5;241m.\u001b[39msource_address,\n\u001b[0;32m    203\u001b[0m         socket_options\u001b[38;5;241m=\u001b[39m\u001b[38;5;28mself\u001b[39m\u001b[38;5;241m.\u001b[39msocket_options,\n\u001b[0;32m    204\u001b[0m     )\n\u001b[0;32m    205\u001b[0m \u001b[38;5;28;01mexcept\u001b[39;00m socket\u001b[38;5;241m.\u001b[39mgaierror \u001b[38;5;28;01mas\u001b[39;00m e:\n",
      "File \u001b[1;32mD:\\AnacondaS\\Lib\\site-packages\\urllib3\\util\\connection.py:60\u001b[0m, in \u001b[0;36mcreate_connection\u001b[1;34m(address, timeout, source_address, socket_options)\u001b[0m\n\u001b[0;32m     58\u001b[0m     \u001b[38;5;28;01mraise\u001b[39;00m LocationParseError(\u001b[38;5;124mf\u001b[39m\u001b[38;5;124m\"\u001b[39m\u001b[38;5;124m'\u001b[39m\u001b[38;5;132;01m{\u001b[39;00mhost\u001b[38;5;132;01m}\u001b[39;00m\u001b[38;5;124m'\u001b[39m\u001b[38;5;124m, label empty or too long\u001b[39m\u001b[38;5;124m\"\u001b[39m) \u001b[38;5;28;01mfrom\u001b[39;00m \u001b[38;5;28;01mNone\u001b[39;00m\n\u001b[1;32m---> 60\u001b[0m \u001b[38;5;28;01mfor\u001b[39;00m res \u001b[38;5;129;01min\u001b[39;00m socket\u001b[38;5;241m.\u001b[39mgetaddrinfo(host, port, family, socket\u001b[38;5;241m.\u001b[39mSOCK_STREAM):\n\u001b[0;32m     61\u001b[0m     af, socktype, proto, canonname, sa \u001b[38;5;241m=\u001b[39m res\n",
      "File \u001b[1;32mD:\\AnacondaS\\Lib\\socket.py:964\u001b[0m, in \u001b[0;36mgetaddrinfo\u001b[1;34m(host, port, family, type, proto, flags)\u001b[0m\n\u001b[0;32m    963\u001b[0m addrlist \u001b[38;5;241m=\u001b[39m []\n\u001b[1;32m--> 964\u001b[0m \u001b[38;5;28;01mfor\u001b[39;00m res \u001b[38;5;129;01min\u001b[39;00m _socket\u001b[38;5;241m.\u001b[39mgetaddrinfo(host, port, family, \u001b[38;5;28mtype\u001b[39m, proto, flags):\n\u001b[0;32m    965\u001b[0m     af, socktype, proto, canonname, sa \u001b[38;5;241m=\u001b[39m res\n",
      "\u001b[1;31mgaierror\u001b[0m: [Errno 11001] getaddrinfo failed",
      "\nThe above exception was the direct cause of the following exception:\n",
      "\u001b[1;31mNameResolutionError\u001b[0m                       Traceback (most recent call last)",
      "File \u001b[1;32mD:\\AnacondaS\\Lib\\site-packages\\urllib3\\connectionpool.py:789\u001b[0m, in \u001b[0;36mHTTPConnectionPool.urlopen\u001b[1;34m(self, method, url, body, headers, retries, redirect, assert_same_host, timeout, pool_timeout, release_conn, chunked, body_pos, preload_content, decode_content, **response_kw)\u001b[0m\n\u001b[0;32m    788\u001b[0m \u001b[38;5;66;03m# Make the request on the HTTPConnection object\u001b[39;00m\n\u001b[1;32m--> 789\u001b[0m response \u001b[38;5;241m=\u001b[39m \u001b[38;5;28mself\u001b[39m\u001b[38;5;241m.\u001b[39m_make_request(\n\u001b[0;32m    790\u001b[0m     conn,\n\u001b[0;32m    791\u001b[0m     method,\n\u001b[0;32m    792\u001b[0m     url,\n\u001b[0;32m    793\u001b[0m     timeout\u001b[38;5;241m=\u001b[39mtimeout_obj,\n\u001b[0;32m    794\u001b[0m     body\u001b[38;5;241m=\u001b[39mbody,\n\u001b[0;32m    795\u001b[0m     headers\u001b[38;5;241m=\u001b[39mheaders,\n\u001b[0;32m    796\u001b[0m     chunked\u001b[38;5;241m=\u001b[39mchunked,\n\u001b[0;32m    797\u001b[0m     retries\u001b[38;5;241m=\u001b[39mretries,\n\u001b[0;32m    798\u001b[0m     response_conn\u001b[38;5;241m=\u001b[39mresponse_conn,\n\u001b[0;32m    799\u001b[0m     preload_content\u001b[38;5;241m=\u001b[39mpreload_content,\n\u001b[0;32m    800\u001b[0m     decode_content\u001b[38;5;241m=\u001b[39mdecode_content,\n\u001b[0;32m    801\u001b[0m     \u001b[38;5;241m*\u001b[39m\u001b[38;5;241m*\u001b[39mresponse_kw,\n\u001b[0;32m    802\u001b[0m )\n\u001b[0;32m    804\u001b[0m \u001b[38;5;66;03m# Everything went great!\u001b[39;00m\n",
      "File \u001b[1;32mD:\\AnacondaS\\Lib\\site-packages\\urllib3\\connectionpool.py:490\u001b[0m, in \u001b[0;36mHTTPConnectionPool._make_request\u001b[1;34m(self, conn, method, url, body, headers, retries, timeout, chunked, response_conn, preload_content, decode_content, enforce_content_length)\u001b[0m\n\u001b[0;32m    489\u001b[0m         new_e \u001b[38;5;241m=\u001b[39m _wrap_proxy_error(new_e, conn\u001b[38;5;241m.\u001b[39mproxy\u001b[38;5;241m.\u001b[39mscheme)\n\u001b[1;32m--> 490\u001b[0m     \u001b[38;5;28;01mraise\u001b[39;00m new_e\n\u001b[0;32m    492\u001b[0m \u001b[38;5;66;03m# conn.request() calls http.client.*.request, not the method in\u001b[39;00m\n\u001b[0;32m    493\u001b[0m \u001b[38;5;66;03m# urllib3.request. It also calls makefile (recv) on the socket.\u001b[39;00m\n",
      "File \u001b[1;32mD:\\AnacondaS\\Lib\\site-packages\\urllib3\\connectionpool.py:466\u001b[0m, in \u001b[0;36mHTTPConnectionPool._make_request\u001b[1;34m(self, conn, method, url, body, headers, retries, timeout, chunked, response_conn, preload_content, decode_content, enforce_content_length)\u001b[0m\n\u001b[0;32m    465\u001b[0m \u001b[38;5;28;01mtry\u001b[39;00m:\n\u001b[1;32m--> 466\u001b[0m     \u001b[38;5;28mself\u001b[39m\u001b[38;5;241m.\u001b[39m_validate_conn(conn)\n\u001b[0;32m    467\u001b[0m \u001b[38;5;28;01mexcept\u001b[39;00m (SocketTimeout, BaseSSLError) \u001b[38;5;28;01mas\u001b[39;00m e:\n",
      "File \u001b[1;32mD:\\AnacondaS\\Lib\\site-packages\\urllib3\\connectionpool.py:1095\u001b[0m, in \u001b[0;36mHTTPSConnectionPool._validate_conn\u001b[1;34m(self, conn)\u001b[0m\n\u001b[0;32m   1094\u001b[0m \u001b[38;5;28;01mif\u001b[39;00m conn\u001b[38;5;241m.\u001b[39mis_closed:\n\u001b[1;32m-> 1095\u001b[0m     conn\u001b[38;5;241m.\u001b[39mconnect()\n\u001b[0;32m   1097\u001b[0m \u001b[38;5;66;03m# TODO revise this, see https://github.com/urllib3/urllib3/issues/2791\u001b[39;00m\n",
      "File \u001b[1;32mD:\\AnacondaS\\Lib\\site-packages\\urllib3\\connection.py:693\u001b[0m, in \u001b[0;36mHTTPSConnection.connect\u001b[1;34m(self)\u001b[0m\n\u001b[0;32m    692\u001b[0m sock: socket\u001b[38;5;241m.\u001b[39msocket \u001b[38;5;241m|\u001b[39m ssl\u001b[38;5;241m.\u001b[39mSSLSocket\n\u001b[1;32m--> 693\u001b[0m \u001b[38;5;28mself\u001b[39m\u001b[38;5;241m.\u001b[39msock \u001b[38;5;241m=\u001b[39m sock \u001b[38;5;241m=\u001b[39m \u001b[38;5;28mself\u001b[39m\u001b[38;5;241m.\u001b[39m_new_conn()\n\u001b[0;32m    694\u001b[0m server_hostname: \u001b[38;5;28mstr\u001b[39m \u001b[38;5;241m=\u001b[39m \u001b[38;5;28mself\u001b[39m\u001b[38;5;241m.\u001b[39mhost\n",
      "File \u001b[1;32mD:\\AnacondaS\\Lib\\site-packages\\urllib3\\connection.py:206\u001b[0m, in \u001b[0;36mHTTPConnection._new_conn\u001b[1;34m(self)\u001b[0m\n\u001b[0;32m    205\u001b[0m \u001b[38;5;28;01mexcept\u001b[39;00m socket\u001b[38;5;241m.\u001b[39mgaierror \u001b[38;5;28;01mas\u001b[39;00m e:\n\u001b[1;32m--> 206\u001b[0m     \u001b[38;5;28;01mraise\u001b[39;00m NameResolutionError(\u001b[38;5;28mself\u001b[39m\u001b[38;5;241m.\u001b[39mhost, \u001b[38;5;28mself\u001b[39m, e) \u001b[38;5;28;01mfrom\u001b[39;00m \u001b[38;5;21;01me\u001b[39;00m\n\u001b[0;32m    207\u001b[0m \u001b[38;5;28;01mexcept\u001b[39;00m SocketTimeout \u001b[38;5;28;01mas\u001b[39;00m e:\n",
      "\u001b[1;31mNameResolutionError\u001b[0m: <urllib3.connection.HTTPSConnection object at 0x00000199C0297590>: Failed to resolve 'api.tradingview.com' ([Errno 11001] getaddrinfo failed)",
      "\nThe above exception was the direct cause of the following exception:\n",
      "\u001b[1;31mMaxRetryError\u001b[0m                             Traceback (most recent call last)",
      "File \u001b[1;32mD:\\AnacondaS\\Lib\\site-packages\\requests\\adapters.py:667\u001b[0m, in \u001b[0;36mHTTPAdapter.send\u001b[1;34m(self, request, stream, timeout, verify, cert, proxies)\u001b[0m\n\u001b[0;32m    666\u001b[0m \u001b[38;5;28;01mtry\u001b[39;00m:\n\u001b[1;32m--> 667\u001b[0m     resp \u001b[38;5;241m=\u001b[39m conn\u001b[38;5;241m.\u001b[39murlopen(\n\u001b[0;32m    668\u001b[0m         method\u001b[38;5;241m=\u001b[39mrequest\u001b[38;5;241m.\u001b[39mmethod,\n\u001b[0;32m    669\u001b[0m         url\u001b[38;5;241m=\u001b[39murl,\n\u001b[0;32m    670\u001b[0m         body\u001b[38;5;241m=\u001b[39mrequest\u001b[38;5;241m.\u001b[39mbody,\n\u001b[0;32m    671\u001b[0m         headers\u001b[38;5;241m=\u001b[39mrequest\u001b[38;5;241m.\u001b[39mheaders,\n\u001b[0;32m    672\u001b[0m         redirect\u001b[38;5;241m=\u001b[39m\u001b[38;5;28;01mFalse\u001b[39;00m,\n\u001b[0;32m    673\u001b[0m         assert_same_host\u001b[38;5;241m=\u001b[39m\u001b[38;5;28;01mFalse\u001b[39;00m,\n\u001b[0;32m    674\u001b[0m         preload_content\u001b[38;5;241m=\u001b[39m\u001b[38;5;28;01mFalse\u001b[39;00m,\n\u001b[0;32m    675\u001b[0m         decode_content\u001b[38;5;241m=\u001b[39m\u001b[38;5;28;01mFalse\u001b[39;00m,\n\u001b[0;32m    676\u001b[0m         retries\u001b[38;5;241m=\u001b[39m\u001b[38;5;28mself\u001b[39m\u001b[38;5;241m.\u001b[39mmax_retries,\n\u001b[0;32m    677\u001b[0m         timeout\u001b[38;5;241m=\u001b[39mtimeout,\n\u001b[0;32m    678\u001b[0m         chunked\u001b[38;5;241m=\u001b[39mchunked,\n\u001b[0;32m    679\u001b[0m     )\n\u001b[0;32m    681\u001b[0m \u001b[38;5;28;01mexcept\u001b[39;00m (ProtocolError, \u001b[38;5;167;01mOSError\u001b[39;00m) \u001b[38;5;28;01mas\u001b[39;00m err:\n",
      "File \u001b[1;32mD:\\AnacondaS\\Lib\\site-packages\\urllib3\\connectionpool.py:843\u001b[0m, in \u001b[0;36mHTTPConnectionPool.urlopen\u001b[1;34m(self, method, url, body, headers, retries, redirect, assert_same_host, timeout, pool_timeout, release_conn, chunked, body_pos, preload_content, decode_content, **response_kw)\u001b[0m\n\u001b[0;32m    841\u001b[0m     new_e \u001b[38;5;241m=\u001b[39m ProtocolError(\u001b[38;5;124m\"\u001b[39m\u001b[38;5;124mConnection aborted.\u001b[39m\u001b[38;5;124m\"\u001b[39m, new_e)\n\u001b[1;32m--> 843\u001b[0m retries \u001b[38;5;241m=\u001b[39m retries\u001b[38;5;241m.\u001b[39mincrement(\n\u001b[0;32m    844\u001b[0m     method, url, error\u001b[38;5;241m=\u001b[39mnew_e, _pool\u001b[38;5;241m=\u001b[39m\u001b[38;5;28mself\u001b[39m, _stacktrace\u001b[38;5;241m=\u001b[39msys\u001b[38;5;241m.\u001b[39mexc_info()[\u001b[38;5;241m2\u001b[39m]\n\u001b[0;32m    845\u001b[0m )\n\u001b[0;32m    846\u001b[0m retries\u001b[38;5;241m.\u001b[39msleep()\n",
      "File \u001b[1;32mD:\\AnacondaS\\Lib\\site-packages\\urllib3\\util\\retry.py:519\u001b[0m, in \u001b[0;36mRetry.increment\u001b[1;34m(self, method, url, response, error, _pool, _stacktrace)\u001b[0m\n\u001b[0;32m    518\u001b[0m     reason \u001b[38;5;241m=\u001b[39m error \u001b[38;5;129;01mor\u001b[39;00m ResponseError(cause)\n\u001b[1;32m--> 519\u001b[0m     \u001b[38;5;28;01mraise\u001b[39;00m MaxRetryError(_pool, url, reason) \u001b[38;5;28;01mfrom\u001b[39;00m \u001b[38;5;21;01mreason\u001b[39;00m  \u001b[38;5;66;03m# type: ignore[arg-type]\u001b[39;00m\n\u001b[0;32m    521\u001b[0m log\u001b[38;5;241m.\u001b[39mdebug(\u001b[38;5;124m\"\u001b[39m\u001b[38;5;124mIncremented Retry for (url=\u001b[39m\u001b[38;5;124m'\u001b[39m\u001b[38;5;132;01m%s\u001b[39;00m\u001b[38;5;124m'\u001b[39m\u001b[38;5;124m): \u001b[39m\u001b[38;5;132;01m%r\u001b[39;00m\u001b[38;5;124m\"\u001b[39m, url, new_retry)\n",
      "\u001b[1;31mMaxRetryError\u001b[0m: HTTPSConnectionPool(host='api.tradingview.com', port=443): Max retries exceeded with url: /your-endpoint?symbol=BTCUSDT&exchange=binance&interval=1d (Caused by NameResolutionError(\"<urllib3.connection.HTTPSConnection object at 0x00000199C0297590>: Failed to resolve 'api.tradingview.com' ([Errno 11001] getaddrinfo failed)\"))",
      "\nDuring handling of the above exception, another exception occurred:\n",
      "\u001b[1;31mConnectionError\u001b[0m                           Traceback (most recent call last)",
      "Cell \u001b[1;32mIn[34], line 12\u001b[0m\n\u001b[0;32m      4\u001b[0m url \u001b[38;5;241m=\u001b[39m \u001b[38;5;124m\"\u001b[39m\u001b[38;5;124mhttps://api.tradingview.com/your-endpoint\u001b[39m\u001b[38;5;124m\"\u001b[39m\n\u001b[0;32m      6\u001b[0m params \u001b[38;5;241m=\u001b[39m {\n\u001b[0;32m      7\u001b[0m     \u001b[38;5;124m\"\u001b[39m\u001b[38;5;124msymbol\u001b[39m\u001b[38;5;124m\"\u001b[39m: \u001b[38;5;124m\"\u001b[39m\u001b[38;5;124mBTCUSDT\u001b[39m\u001b[38;5;124m\"\u001b[39m,\n\u001b[0;32m      8\u001b[0m     \u001b[38;5;124m\"\u001b[39m\u001b[38;5;124mexchange\u001b[39m\u001b[38;5;124m\"\u001b[39m: \u001b[38;5;124m\"\u001b[39m\u001b[38;5;124mbinance\u001b[39m\u001b[38;5;124m\"\u001b[39m,\n\u001b[0;32m      9\u001b[0m     \u001b[38;5;124m\"\u001b[39m\u001b[38;5;124minterval\u001b[39m\u001b[38;5;124m\"\u001b[39m: \u001b[38;5;124m\"\u001b[39m\u001b[38;5;124m1d\u001b[39m\u001b[38;5;124m\"\u001b[39m\n\u001b[0;32m     10\u001b[0m }\n\u001b[1;32m---> 12\u001b[0m response \u001b[38;5;241m=\u001b[39m requests\u001b[38;5;241m.\u001b[39mget(url, params\u001b[38;5;241m=\u001b[39mparams)\n\u001b[0;32m     14\u001b[0m \u001b[38;5;28mprint\u001b[39m(\u001b[38;5;124m\"\u001b[39m\u001b[38;5;124mStatus Code:\u001b[39m\u001b[38;5;124m\"\u001b[39m, response\u001b[38;5;241m.\u001b[39mstatus_code)\n\u001b[0;32m     15\u001b[0m \u001b[38;5;28mprint\u001b[39m(\u001b[38;5;124m\"\u001b[39m\u001b[38;5;124mResponse Text:\u001b[39m\u001b[38;5;124m\"\u001b[39m, response\u001b[38;5;241m.\u001b[39mtext)\n",
      "File \u001b[1;32mD:\\AnacondaS\\Lib\\site-packages\\requests\\api.py:73\u001b[0m, in \u001b[0;36mget\u001b[1;34m(url, params, **kwargs)\u001b[0m\n\u001b[0;32m     62\u001b[0m \u001b[38;5;28;01mdef\u001b[39;00m \u001b[38;5;21mget\u001b[39m(url, params\u001b[38;5;241m=\u001b[39m\u001b[38;5;28;01mNone\u001b[39;00m, \u001b[38;5;241m*\u001b[39m\u001b[38;5;241m*\u001b[39mkwargs):\n\u001b[0;32m     63\u001b[0m \u001b[38;5;250m    \u001b[39m\u001b[38;5;124mr\u001b[39m\u001b[38;5;124;03m\"\"\"Sends a GET request.\u001b[39;00m\n\u001b[0;32m     64\u001b[0m \n\u001b[0;32m     65\u001b[0m \u001b[38;5;124;03m    :param url: URL for the new :class:`Request` object.\u001b[39;00m\n\u001b[1;32m   (...)\u001b[0m\n\u001b[0;32m     70\u001b[0m \u001b[38;5;124;03m    :rtype: requests.Response\u001b[39;00m\n\u001b[0;32m     71\u001b[0m \u001b[38;5;124;03m    \"\"\"\u001b[39;00m\n\u001b[1;32m---> 73\u001b[0m     \u001b[38;5;28;01mreturn\u001b[39;00m request(\u001b[38;5;124m\"\u001b[39m\u001b[38;5;124mget\u001b[39m\u001b[38;5;124m\"\u001b[39m, url, params\u001b[38;5;241m=\u001b[39mparams, \u001b[38;5;241m*\u001b[39m\u001b[38;5;241m*\u001b[39mkwargs)\n",
      "File \u001b[1;32mD:\\AnacondaS\\Lib\\site-packages\\requests\\api.py:59\u001b[0m, in \u001b[0;36mrequest\u001b[1;34m(method, url, **kwargs)\u001b[0m\n\u001b[0;32m     55\u001b[0m \u001b[38;5;66;03m# By using the 'with' statement we are sure the session is closed, thus we\u001b[39;00m\n\u001b[0;32m     56\u001b[0m \u001b[38;5;66;03m# avoid leaving sockets open which can trigger a ResourceWarning in some\u001b[39;00m\n\u001b[0;32m     57\u001b[0m \u001b[38;5;66;03m# cases, and look like a memory leak in others.\u001b[39;00m\n\u001b[0;32m     58\u001b[0m \u001b[38;5;28;01mwith\u001b[39;00m sessions\u001b[38;5;241m.\u001b[39mSession() \u001b[38;5;28;01mas\u001b[39;00m session:\n\u001b[1;32m---> 59\u001b[0m     \u001b[38;5;28;01mreturn\u001b[39;00m session\u001b[38;5;241m.\u001b[39mrequest(method\u001b[38;5;241m=\u001b[39mmethod, url\u001b[38;5;241m=\u001b[39murl, \u001b[38;5;241m*\u001b[39m\u001b[38;5;241m*\u001b[39mkwargs)\n",
      "File \u001b[1;32mD:\\AnacondaS\\Lib\\site-packages\\requests\\sessions.py:589\u001b[0m, in \u001b[0;36mSession.request\u001b[1;34m(self, method, url, params, data, headers, cookies, files, auth, timeout, allow_redirects, proxies, hooks, stream, verify, cert, json)\u001b[0m\n\u001b[0;32m    584\u001b[0m send_kwargs \u001b[38;5;241m=\u001b[39m {\n\u001b[0;32m    585\u001b[0m     \u001b[38;5;124m\"\u001b[39m\u001b[38;5;124mtimeout\u001b[39m\u001b[38;5;124m\"\u001b[39m: timeout,\n\u001b[0;32m    586\u001b[0m     \u001b[38;5;124m\"\u001b[39m\u001b[38;5;124mallow_redirects\u001b[39m\u001b[38;5;124m\"\u001b[39m: allow_redirects,\n\u001b[0;32m    587\u001b[0m }\n\u001b[0;32m    588\u001b[0m send_kwargs\u001b[38;5;241m.\u001b[39mupdate(settings)\n\u001b[1;32m--> 589\u001b[0m resp \u001b[38;5;241m=\u001b[39m \u001b[38;5;28mself\u001b[39m\u001b[38;5;241m.\u001b[39msend(prep, \u001b[38;5;241m*\u001b[39m\u001b[38;5;241m*\u001b[39msend_kwargs)\n\u001b[0;32m    591\u001b[0m \u001b[38;5;28;01mreturn\u001b[39;00m resp\n",
      "File \u001b[1;32mD:\\AnacondaS\\Lib\\site-packages\\requests\\sessions.py:703\u001b[0m, in \u001b[0;36mSession.send\u001b[1;34m(self, request, **kwargs)\u001b[0m\n\u001b[0;32m    700\u001b[0m start \u001b[38;5;241m=\u001b[39m preferred_clock()\n\u001b[0;32m    702\u001b[0m \u001b[38;5;66;03m# Send the request\u001b[39;00m\n\u001b[1;32m--> 703\u001b[0m r \u001b[38;5;241m=\u001b[39m adapter\u001b[38;5;241m.\u001b[39msend(request, \u001b[38;5;241m*\u001b[39m\u001b[38;5;241m*\u001b[39mkwargs)\n\u001b[0;32m    705\u001b[0m \u001b[38;5;66;03m# Total elapsed time of the request (approximately)\u001b[39;00m\n\u001b[0;32m    706\u001b[0m elapsed \u001b[38;5;241m=\u001b[39m preferred_clock() \u001b[38;5;241m-\u001b[39m start\n",
      "File \u001b[1;32mD:\\AnacondaS\\Lib\\site-packages\\requests\\adapters.py:700\u001b[0m, in \u001b[0;36mHTTPAdapter.send\u001b[1;34m(self, request, stream, timeout, verify, cert, proxies)\u001b[0m\n\u001b[0;32m    696\u001b[0m     \u001b[38;5;28;01mif\u001b[39;00m \u001b[38;5;28misinstance\u001b[39m(e\u001b[38;5;241m.\u001b[39mreason, _SSLError):\n\u001b[0;32m    697\u001b[0m         \u001b[38;5;66;03m# This branch is for urllib3 v1.22 and later.\u001b[39;00m\n\u001b[0;32m    698\u001b[0m         \u001b[38;5;28;01mraise\u001b[39;00m SSLError(e, request\u001b[38;5;241m=\u001b[39mrequest)\n\u001b[1;32m--> 700\u001b[0m     \u001b[38;5;28;01mraise\u001b[39;00m \u001b[38;5;167;01mConnectionError\u001b[39;00m(e, request\u001b[38;5;241m=\u001b[39mrequest)\n\u001b[0;32m    702\u001b[0m \u001b[38;5;28;01mexcept\u001b[39;00m ClosedPoolError \u001b[38;5;28;01mas\u001b[39;00m e:\n\u001b[0;32m    703\u001b[0m     \u001b[38;5;28;01mraise\u001b[39;00m \u001b[38;5;167;01mConnectionError\u001b[39;00m(e, request\u001b[38;5;241m=\u001b[39mrequest)\n",
      "\u001b[1;31mConnectionError\u001b[0m: HTTPSConnectionPool(host='api.tradingview.com', port=443): Max retries exceeded with url: /your-endpoint?symbol=BTCUSDT&exchange=binance&interval=1d (Caused by NameResolutionError(\"<urllib3.connection.HTTPSConnection object at 0x00000199C0297590>: Failed to resolve 'api.tradingview.com' ([Errno 11001] getaddrinfo failed)\"))"
     ]
    }
   ],
   "source": [
    "import requests\n",
    "\n",
    "# Пример ручного запроса к API TradingView (пример URL, надо его заменить на правильный)\n",
    "url = \"https://api.tradingview.com/your-endpoint\"\n",
    "\n",
    "params = {\n",
    "    \"symbol\": \"BTCUSDT\",\n",
    "    \"exchange\": \"binance\",\n",
    "    \"interval\": \"1d\"\n",
    "}\n",
    "\n",
    "response = requests.get(url, params=params)\n",
    "\n",
    "print(\"Status Code:\", response.status_code)\n",
    "print(\"Response Text:\", response.text)"
   ]
  },
  {
   "cell_type": "code",
   "execution_count": null,
   "id": "c8e07914-a4ed-4d65-8af4-9ec33f3f3a27",
   "metadata": {},
   "outputs": [],
   "source": [
    "try:\n",
    "    analysis = handler.get_analysis()\n",
    "    print(\"Analysis received successfully.\")\n",
    "except Exception as e:\n",
    "    print(\"Error type:\", type(e).name)  # Тип ошибки\n",
    "    print(\"Error message:\", str(e))         # Сообщение ошибки\n",
    "    print(\"Details:\", e.args)               # Аргументы ошибки (может включать статус код)"
   ]
  },
  {
   "cell_type": "code",
   "execution_count": 35,
   "id": "0dd62ef9-458b-4db6-91d4-6a39c341d74d",
   "metadata": {},
   "outputs": [
    {
     "name": "stderr",
     "output_type": "stream",
     "text": [
      "DEBUG:urllib3.connectionpool:Starting new HTTPS connection (1): scanner.tradingview.com:443\n",
      "DEBUG:urllib3.connectionpool:https://scanner.tradingview.com:443 \"POST /crypto/scan HTTP/11\" 200 None\n"
     ]
    },
    {
     "name": "stdout",
     "output_type": "stream",
     "text": [
      "Analysis received successfully.\n"
     ]
    }
   ],
   "source": [
    "import traceback\n",
    "\n",
    "try:\n",
    "    analysis = handler.get_analysis()\n",
    "    print(\"Analysis received successfully.\")\n",
    "except Exception as e:\n",
    "    print(\"Error:\", e)\n",
    "    print(\"Details:\", e.args)\n",
    "    traceback.print_exc()  # Полный вывод стека ошибки"
   ]
  },
  {
   "cell_type": "code",
   "execution_count": 39,
   "id": "25bcd920-da8c-4f86-87ee-282cb25c7a81",
   "metadata": {},
   "outputs": [
    {
     "name": "stderr",
     "output_type": "stream",
     "text": [
      "DEBUG:urllib3.connectionpool:Starting new HTTPS connection (1): scanner.tradingview.com:443\n",
      "DEBUG:urllib3.connectionpool:https://scanner.tradingview.com:443 \"POST /crypto/scan HTTP/11\" 200 None\n"
     ]
    },
    {
     "name": "stdout",
     "output_type": "stream",
     "text": [
      "Analysis received successfully.\n"
     ]
    }
   ],
   "source": [
    "import traceback\n",
    "\n",
    "try:\n",
    "    analysis = handler.get_analysis()\n",
    "    print(\"Analysis received successfully.\")\n",
    "except Exception as e:\n",
    "    print(\"Error:\", e)\n",
    "    print(\"Details:\", e.args)\n",
    "    traceback.print_exc()  # Полный вывод стека ошибки"
   ]
  },
  {
   "cell_type": "code",
   "execution_count": 41,
   "id": "154adb9d-674a-41e2-b636-188437779b5b",
   "metadata": {},
   "outputs": [
    {
     "name": "stdout",
     "output_type": "stream",
     "text": [
      "--Return--\n",
      "None\n",
      "> \u001b[1;32mc:\\users\\user0\\appdata\\local\\temp\\ipykernel_5816\\3654550901.py\u001b[0m(11)\u001b[0;36m<module>\u001b[1;34m()\u001b[0m\n",
      "\n"
     ]
    },
    {
     "name": "stderr",
     "output_type": "stream",
     "text": [
      "DEBUG:urllib3.connectionpool:Starting new HTTPS connection (1): scanner.tradingview.com:443\n",
      "DEBUG:urllib3.connectionpool:https://scanner.tradingview.com:443 \"POST /crypto/scan HTTP/11\" 200 None\n"
     ]
    },
    {
     "name": "stdout",
     "output_type": "stream",
     "text": [
      "--KeyboardInterrupt--\n",
      "\n",
      "KeyboardInterrupt: Interrupted by user\n",
      "Analysis received successfully.\n"
     ]
    }
   ],
   "source": [
    "import pdb\n",
    "\n",
    "handler = TA_Handler(\n",
    "    symbol=\"BTCUSDT\",\n",
    "    exchange=\"binance\",\n",
    "    screener=\"crypto\",\n",
    "    interval=Interval.INTERVAL_1_DAY\n",
    ")\n",
    "\n",
    "# Включаем отладчик перед вызовом метода\n",
    "pdb.set_trace()\n",
    "\n",
    "try:\n",
    "    analysis = handler.get_analysis()\n",
    "    print(\"Analysis received successfully.\")\n",
    "except Exception as e:\n",
    "    print(\"Error:\", e)\n",
    "    print(\"Details:\", e.args)"
   ]
  },
  {
   "cell_type": "code",
   "execution_count": 1,
   "id": "6580d726-3955-4d78-ba35-914e8b10d72d",
   "metadata": {},
   "outputs": [
    {
     "ename": "NameError",
     "evalue": "name 'TA_Handler' is not defined",
     "output_type": "error",
     "traceback": [
      "\u001b[1;31m---------------------------------------------------------------------------\u001b[0m",
      "\u001b[1;31mNameError\u001b[0m                                 Traceback (most recent call last)",
      "Cell \u001b[1;32mIn[1], line 1\u001b[0m\n\u001b[1;32m----> 1\u001b[0m handler \u001b[38;5;241m=\u001b[39m TA_Handler(\n\u001b[0;32m      2\u001b[0m     symbol\u001b[38;5;241m=\u001b[39m\u001b[38;5;124m\"\u001b[39m\u001b[38;5;124mBTCUSD\u001b[39m\u001b[38;5;124m\"\u001b[39m,\n\u001b[0;32m      3\u001b[0m     exchange\u001b[38;5;241m=\u001b[39m\u001b[38;5;124m\"\u001b[39m\u001b[38;5;124mbinance\u001b[39m\u001b[38;5;124m\"\u001b[39m,\n\u001b[0;32m      4\u001b[0m     screener\u001b[38;5;241m=\u001b[39m\u001b[38;5;124m\"\u001b[39m\u001b[38;5;124mcrypto\u001b[39m\u001b[38;5;124m\"\u001b[39m,\n\u001b[0;32m      5\u001b[0m     interval\u001b[38;5;241m=\u001b[39mInterval\u001b[38;5;241m.\u001b[39mINTERVAL_1_DAY\n\u001b[0;32m      6\u001b[0m )\n",
      "\u001b[1;31mNameError\u001b[0m: name 'TA_Handler' is not defined"
     ]
    }
   ],
   "source": [
    "handler = TA_Handler(\n",
    "    symbol=\"BTCUSD\",\n",
    "    exchange=\"binance\",\n",
    "    screener=\"crypto\",\n",
    "    interval=Interval.INTERVAL_1_DAY\n",
    ")"
   ]
  },
  {
   "cell_type": "code",
   "execution_count": 3,
   "id": "dd4b907a-01b0-4bf0-851a-970a83b827a7",
   "metadata": {},
   "outputs": [
    {
     "name": "stdout",
     "output_type": "stream",
     "text": [
      "Error type: <member 'name' of 'NameError' objects>\n",
      "Error message: name 'handler' is not defined\n",
      "Details: (\"name 'handler' is not defined\",)\n"
     ]
    },
    {
     "name": "stderr",
     "output_type": "stream",
     "text": [
      "Traceback (most recent call last):\n",
      "  File \"C:\\Users\\User0\\AppData\\Local\\Temp\\ipykernel_5816\\1405198229.py\", line 4, in <module>\n",
      "    analysis = handler.get_analysis()\n",
      "               ^^^^^^^\n",
      "NameError: name 'handler' is not defined\n"
     ]
    }
   ],
   "source": [
    "import traceback\n",
    "\n",
    "try:\n",
    "    analysis = handler.get_analysis()\n",
    "except Exception as e:\n",
    "    print(\"Error type:\", type(e).name)  # Тип ошибки\n",
    "    print(\"Error message:\", str(e))         # Сообщение ошибки\n",
    "    print(\"Details:\", e.args)               # Аргументы ошибки\n",
    "    traceback.print_exc()                   # Полный стектрейс"
   ]
  },
  {
   "cell_type": "code",
   "execution_count": 5,
   "id": "ee819d5d-fd01-4ca8-b955-d48f686459b7",
   "metadata": {},
   "outputs": [
    {
     "name": "stdout",
     "output_type": "stream",
     "text": [
      "Status Code: 200\n",
      "Response Text: {\"totalCount\":1,\"data\":[{\"s\":\"BINANCE:BTCUSDT\",\"d\":[0.4,54.931943076346016,52.93387956441635,41.75483788770048,30.019442540987246]}]}\n"
     ]
    }
   ],
   "source": [
    "import requests\n",
    "\n",
    "url = \"https://scanner.tradingview.com/crypto/scan\"\n",
    "data = {\n",
    "    \"symbols\": {\n",
    "        \"tickers\": [\"BINANCE:BTCUSDT\"],\n",
    "        \"query\": {\n",
    "            \"types\": []\n",
    "        }\n",
    "    },\n",
    "    \"columns\": [\n",
    "        \"Recommend.All\",\n",
    "        \"RSI\",\n",
    "        \"RSI[1]\",\n",
    "        \"Stoch.K\",\n",
    "        \"Stoch.D\"\n",
    "    ]\n",
    "}\n",
    "\n",
    "response = requests.post(url, json=data)\n",
    "print(\"Status Code:\", response.status_code)\n",
    "print(\"Response Text:\", response.text)"
   ]
  },
  {
   "cell_type": "code",
   "execution_count": 7,
   "id": "812ce1e5-fe08-4ad2-8525-f71f86ccc0d4",
   "metadata": {},
   "outputs": [],
   "source": [
    "from tradingview_ta import TA_Handler\n",
    "\n",
    "handler = TA_Handler(\n",
    "    symbol=\"BTCUSDT\",\n",
    "    exchange=\"BINANCE\",\n",
    "    screener=\"crypto\",\n",
    "    interval=\"1d\"\n",
    ")"
   ]
  },
  {
   "cell_type": "code",
   "execution_count": 9,
   "id": "83ca2a30-e85a-4b2a-832b-a07a08edfb21",
   "metadata": {},
   "outputs": [
    {
     "name": "stdout",
     "output_type": "stream",
     "text": [
      "Analysis received successfully.\n"
     ]
    }
   ],
   "source": [
    "from tradingview_ta import TA_Handler\n",
    "\n",
    "# Инициализация TA_Handler\n",
    "handler = TA_Handler(\n",
    "    symbol=\"BTCUSDT\",\n",
    "    exchange=\"BINANCE\",\n",
    "    screener=\"crypto\",\n",
    "    interval=\"1d\"\n",
    ")\n",
    "\n",
    "# Попытка получить анализ\n",
    "try:\n",
    "    analysis = handler.get_analysis()\n",
    "    print(\"Analysis received successfully.\")\n",
    "except Exception as e:\n",
    "    print(\"Error type:\", type(e).name)  # Тип ошибки\n",
    "    print(\"Error message:\", str(e))         # Сообщение ошибки\n",
    "    print(\"Details:\", e.args)                # Подробности ошибки"
   ]
  },
  {
   "cell_type": "code",
   "execution_count": null,
   "id": "41429cb5-f729-46b8-91f5-1d83ad428c06",
   "metadata": {},
   "outputs": [],
   "source": []
  }
 ],
 "metadata": {
  "kernelspec": {
   "display_name": "Python 3 (ipykernel)",
   "language": "python",
   "name": "python3"
  },
  "language_info": {
   "codemirror_mode": {
    "name": "ipython",
    "version": 3
   },
   "file_extension": ".py",
   "mimetype": "text/x-python",
   "name": "python",
   "nbconvert_exporter": "python",
   "pygments_lexer": "ipython3",
   "version": "3.12.4"
  }
 },
 "nbformat": 4,
 "nbformat_minor": 5
}
